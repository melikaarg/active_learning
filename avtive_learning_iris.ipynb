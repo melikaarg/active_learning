{
 "cells": [
  {
   "cell_type": "code",
   "execution_count": 55,
   "metadata": {},
   "outputs": [],
   "source": [
    "import numpy as np\n",
    "import pandas as pd\n",
    "import matplotlib.pyplot as plt\n",
    "from statistics import mean\n",
    "from sklearn.impute import SimpleImputer\n",
    "from sklearn.preprocessing import StandardScaler\n",
    "from sklearn.linear_model import LogisticRegression\n",
    "from sklearn.model_selection import train_test_split\n"
   ]
  },
  {
   "cell_type": "code",
   "execution_count": 56,
   "metadata": {},
   "outputs": [
    {
     "name": "stdout",
     "output_type": "stream",
     "text": [
      "(150, 5)\n",
      "<class 'pandas.core.frame.DataFrame'>\n"
     ]
    },
    {
     "data": {
      "text/html": [
       "<div>\n",
       "<style scoped>\n",
       "    .dataframe tbody tr th:only-of-type {\n",
       "        vertical-align: middle;\n",
       "    }\n",
       "\n",
       "    .dataframe tbody tr th {\n",
       "        vertical-align: top;\n",
       "    }\n",
       "\n",
       "    .dataframe thead th {\n",
       "        text-align: right;\n",
       "    }\n",
       "</style>\n",
       "<table border=\"1\" class=\"dataframe\">\n",
       "  <thead>\n",
       "    <tr style=\"text-align: right;\">\n",
       "      <th></th>\n",
       "      <th>0</th>\n",
       "      <th>1</th>\n",
       "      <th>2</th>\n",
       "      <th>3</th>\n",
       "      <th>4</th>\n",
       "    </tr>\n",
       "  </thead>\n",
       "  <tbody>\n",
       "    <tr>\n",
       "      <th>0</th>\n",
       "      <td>5.1</td>\n",
       "      <td>3.5</td>\n",
       "      <td>1.4</td>\n",
       "      <td>0.2</td>\n",
       "      <td>Setosa</td>\n",
       "    </tr>\n",
       "    <tr>\n",
       "      <th>1</th>\n",
       "      <td>4.9</td>\n",
       "      <td>3.0</td>\n",
       "      <td>1.4</td>\n",
       "      <td>0.2</td>\n",
       "      <td>Setosa</td>\n",
       "    </tr>\n",
       "    <tr>\n",
       "      <th>2</th>\n",
       "      <td>4.7</td>\n",
       "      <td>3.2</td>\n",
       "      <td>1.3</td>\n",
       "      <td>0.2</td>\n",
       "      <td>Setosa</td>\n",
       "    </tr>\n",
       "    <tr>\n",
       "      <th>3</th>\n",
       "      <td>4.6</td>\n",
       "      <td>3.1</td>\n",
       "      <td>1.5</td>\n",
       "      <td>0.2</td>\n",
       "      <td>Setosa</td>\n",
       "    </tr>\n",
       "    <tr>\n",
       "      <th>4</th>\n",
       "      <td>5.0</td>\n",
       "      <td>3.6</td>\n",
       "      <td>1.4</td>\n",
       "      <td>0.2</td>\n",
       "      <td>Setosa</td>\n",
       "    </tr>\n",
       "  </tbody>\n",
       "</table>\n",
       "</div>"
      ],
      "text/plain": [
       "     0    1    2    3       4\n",
       "0  5.1  3.5  1.4  0.2  Setosa\n",
       "1  4.9  3.0  1.4  0.2  Setosa\n",
       "2  4.7  3.2  1.3  0.2  Setosa\n",
       "3  4.6  3.1  1.5  0.2  Setosa\n",
       "4  5.0  3.6  1.4  0.2  Setosa"
      ]
     },
     "execution_count": 56,
     "metadata": {},
     "output_type": "execute_result"
    }
   ],
   "source": [
    "dataset = pd.DataFrame(pd.read_csv(\"iris.csv\").values[:, ])\n",
    "print(dataset.shape)\n",
    "print(type(dataset))\n",
    "dataset.head()"
   ]
  },
  {
   "cell_type": "code",
   "execution_count": 57,
   "metadata": {},
   "outputs": [
    {
     "name": "stdout",
     "output_type": "stream",
     "text": [
      "            0      1      2      3       4\n",
      "count   150.0  150.0  150.0  150.0     150\n",
      "unique   35.0   23.0   43.0   22.0       3\n",
      "top       5.0    3.0    1.4    0.2  Setosa\n",
      "freq     10.0   26.0   13.0   29.0      50\n"
     ]
    }
   ],
   "source": [
    "print(dataset.describe())"
   ]
  },
  {
   "cell_type": "code",
   "execution_count": 58,
   "metadata": {},
   "outputs": [
    {
     "name": "stdout",
     "output_type": "stream",
     "text": [
      "No of Versicolor in Dataset: 50\n",
      "No of Virginica in Dataset: 50\n",
      "No of Setosa in Dataset: 50\n"
     ]
    }
   ],
   "source": [
    "n = len(dataset[dataset[4] == 'Versicolor'])\n",
    "print(\"No of Versicolor in Dataset:\",n)\n",
    "n1 = len(dataset[dataset[4] == 'Virginica'])\n",
    "print(\"No of Virginica in Dataset:\",n1)\n",
    "n2 = len(dataset[dataset[4] == 'Setosa'])\n",
    "print(\"No of Setosa in Dataset:\",n2)"
   ]
  },
  {
   "cell_type": "code",
   "execution_count": 59,
   "metadata": {},
   "outputs": [
    {
     "name": "stdout",
     "output_type": "stream",
     "text": [
      "<class 'numpy.ndarray'>\n",
      "            0      1      2      3       4\n",
      "count   150.0  150.0  150.0  150.0     150\n",
      "unique   35.0   23.0   43.0   22.0       3\n",
      "top       5.0    3.0    1.4    0.2  Setosa\n",
      "freq     10.0   26.0   13.0   29.0      50\n"
     ]
    }
   ],
   "source": [
    "dataset = dataset.to_numpy()\n",
    "print(type(dataset))\n",
    "#fix missing values\n",
    "imputer = SimpleImputer(missing_values = 0, strategy =\"mean\")\n",
    "imputer = imputer.fit(dataset[:, :-1])\n",
    "dataset[:, :-1] = imputer.transform(dataset[:, :-1])\n",
    "print(pd.DataFrame(dataset).describe())\n"
   ]
  },
  {
   "cell_type": "code",
   "execution_count": 60,
   "metadata": {},
   "outputs": [
    {
     "name": "stdout",
     "output_type": "stream",
     "text": [
      "                 0           1           2           3       4\n",
      "count   150.000000  150.000000  150.000000  150.000000     150\n",
      "unique   35.000000   23.000000   43.000000   22.000000       3\n",
      "top      -1.021849   -0.131979   -1.340227   -1.315444  Setosa\n",
      "freq     10.000000   26.000000   13.000000   29.000000      50\n"
     ]
    }
   ],
   "source": [
    "sc = StandardScaler()\n",
    "dataset[:, :-1] = sc.fit_transform(dataset[:, :-1])\n",
    "print(pd.DataFrame(dataset).describe())"
   ]
  },
  {
   "cell_type": "code",
   "execution_count": 61,
   "metadata": {},
   "outputs": [],
   "source": [
    "# split dataset into test set, train set and unlabel pool\n",
    "def split(dataset, train_size, test_size):\n",
    "\tx = dataset[:, :-1]\n",
    "\ty = dataset[:, -1]\n",
    "\tx_train, x_pool, y_train, y_pool = train_test_split(\n",
    "\t\tx, y, train_size = train_size)\n",
    "\tunlabel, x_test, label, y_test = train_test_split(\n",
    "\t\tx_pool, y_pool, test_size = test_size)\n",
    "\treturn x_train, y_train, x_test, y_test, unlabel, label"
   ]
  },
  {
   "cell_type": "code",
   "execution_count": 62,
   "metadata": {},
   "outputs": [],
   "source": [
    "ac1, ac2 ,ac3= [], [], []# arrays to store accuracy of different \n",
    "uncrt_pt_ind = []"
   ]
  },
  {
   "cell_type": "code",
   "execution_count": 63,
   "metadata": {},
   "outputs": [],
   "source": [
    "import random\n",
    "def query_new(y_probab , time):\n",
    "    if (time != 4):\n",
    "        unc = []\n",
    "        margin = []\n",
    "        for i in y_probab:\n",
    "            i.sort()  \n",
    "            margin.append(i[2]-i[1])\n",
    "        min_margin = margin.index(min(margin))\n",
    "        return [min_margin]\n",
    "    else:\n",
    "        return [random.choice(range(len(y_probab)))]"
   ]
  },
  {
   "cell_type": "code",
   "execution_count": 64,
   "metadata": {},
   "outputs": [],
   "source": [
    "def query(y_probab , time):\n",
    "   unc = []\n",
    "   margin = []\n",
    "   for i in y_probab:\n",
    "       i.sort()  \n",
    "       margin.append(i[2]-i[1])\n",
    "   min_margin = margin.index(min(margin))\n",
    "   return [min_margin]"
   ]
  },
  {
   "cell_type": "code",
   "execution_count": 65,
   "metadata": {},
   "outputs": [
    {
     "name": "stdout",
     "output_type": "stream",
     "text": [
      "107\n",
      "[105]\n",
      "106\n",
      "[51]\n",
      "105\n",
      "[32]\n",
      "104\n",
      "[67]\n",
      "103\n",
      "[87]\n",
      "102\n",
      "[43]\n",
      "101\n",
      "[41]\n",
      "100\n",
      "[88]\n",
      "99\n",
      "[95]\n",
      "98\n",
      "[13]\n",
      "[0.6666666666666666, 0.75, 0.9166666666666666, 0.9444444444444444, 0.9722222222222222, 0.9722222222222222, 0.9722222222222222, 0.9722222222222222, 0.9444444444444444, 0.9722222222222222]\n",
      "[0.9444444444444444]\n",
      "[0.7941176470588235]\n"
     ]
    }
   ],
   "source": [
    "\n",
    "from sklearn.metrics import accuracy_score\n",
    "\n",
    "# split dataset into train(5 %), test(25 %), unlabel(70 %)\n",
    "x_train, y_train, x_test, y_test, unlabel, label = split(\n",
    "\tdataset, 0.05, 0.25)\n",
    "# train model by active learning\n",
    "for i in range(10):\n",
    "\tclassifier1 = LogisticRegression()\n",
    "\tclassifier1.fit(x_train, y_train)\n",
    "\ty_probab = classifier1.predict_proba(unlabel)\n",
    "\tp = 0.47 # range of uncertanity 0.47 to 0.53\n",
    "\t# uncrt_pt_ind = []\n",
    "\tprint(unlabel.shape[0])\n",
    "\t# for i in range(unlabel.shape[0]):\n",
    "\t# \tif(y_probab[i] >= p and y_probab[i] <= 1-p):\n",
    "\t# \t\t# print(y_probab[i])\n",
    "\t# \t\tuncrt_pt_ind.append(i)\n",
    "\t# \t\tbreak\n",
    "\tuncrt_pt_ind = query(y_probab,i)\n",
    "\tprint(uncrt_pt_ind)\n",
    "\t# uncrt_pt_ind = query(y_probab)\n",
    "\tx_train = np.append(unlabel[uncrt_pt_ind, :], x_train, axis = 0)\n",
    "\ty_train = np.append(label[uncrt_pt_ind], y_train)\n",
    "\tunlabel = np.delete(unlabel, uncrt_pt_ind, axis = 0)\n",
    "\tlabel = np.delete(label, uncrt_pt_ind)\n",
    "\tac1.append(classifier1.score(x_test, y_test))\n",
    "\n",
    "classifier2 = LogisticRegression()\n",
    "classifier2.fit(x_train, y_train)\n",
    "ac2.append(classifier2.score(x_test, y_test))\n",
    "\n",
    "\n",
    "''' split dataset into train(same as generated by our model),\n",
    "test(25 %), unlabel(rest) '''\n",
    "train_size = x_train.shape[0]/dataset.shape[0]\n",
    "x_train, y_train, x_test, y_test, unlabel, label = split(\n",
    "\tdataset, train_size, 0.25)\n",
    "# train model without active learning\n",
    "classifier3 = LogisticRegression()\n",
    "results = classifier3.fit(x_train, y_train)\n",
    "ac3.append(accuracy_score(y_test, results.predict(x_test)))\n",
    "\n",
    "print(ac1)\n",
    "print(ac2)\n",
    "print(ac3)"
   ]
  },
  {
   "cell_type": "code",
   "execution_count": 66,
   "metadata": {},
   "outputs": [
    {
     "name": "stdout",
     "output_type": "stream",
     "text": [
      "107\n",
      "[4]\n",
      "106\n",
      "[86]\n",
      "105\n",
      "[7]\n",
      "104\n",
      "[80]\n",
      "103\n",
      "[40]\n",
      "102\n",
      "[17]\n",
      "101\n",
      "[58]\n",
      "100\n",
      "[85]\n",
      "99\n",
      "[91]\n",
      "98\n",
      "[45]\n",
      "[0.6666666666666666, 0.75, 0.9166666666666666, 0.9444444444444444, 0.9722222222222222, 0.9722222222222222, 0.9722222222222222, 0.9722222222222222, 0.9444444444444444, 0.9722222222222222, 0.6944444444444444, 0.6944444444444444, 0.8888888888888888, 0.75, 0.9166666666666666, 0.9444444444444444, 0.9444444444444444, 0.9444444444444444, 0.9722222222222222, 0.9444444444444444]\n",
      "[0.9444444444444444, 0.9444444444444444]\n"
     ]
    }
   ],
   "source": [
    "\n",
    "from sklearn.metrics import accuracy_score\n",
    "\n",
    "# split dataset into train(5 %), test(25 %), unlabel(70 %)\n",
    "x_train, y_train, x_test, y_test, unlabel, label = split(\n",
    "\tdataset, 0.05, 0.25)\n",
    "# train model by active learning\n",
    "for i in range(10):\n",
    "\tclassifier1 = LogisticRegression()\n",
    "\tclassifier1.fit(x_train, y_train)\n",
    "\ty_probab = classifier1.predict_proba(unlabel)\n",
    "\tp = 0.47 # range of uncertanity 0.47 to 0.53\n",
    "\t# uncrt_pt_ind = []\n",
    "\tprint(unlabel.shape[0])\n",
    "\t# for i in range(unlabel.shape[0]):\n",
    "\t# \tif(y_probab[i] >= p and y_probab[i] <= 1-p):\n",
    "\t# \t\t# print(y_probab[i])\n",
    "\t# \t\tuncrt_pt_ind.append(i)\n",
    "\t# \t\tbreak\n",
    "\tuncrt_pt_ind = query_new(y_probab , i)\n",
    "\tprint(uncrt_pt_ind)\n",
    "\t# uncrt_pt_ind = query(y_probab)\n",
    "\tx_train = np.append(unlabel[uncrt_pt_ind, :], x_train, axis = 0)\n",
    "\ty_train = np.append(label[uncrt_pt_ind], y_train)\n",
    "\tunlabel = np.delete(unlabel, uncrt_pt_ind, axis = 0)\n",
    "\tlabel = np.delete(label, uncrt_pt_ind)\n",
    "\tac1.append(classifier1.score(x_test, y_test))\n",
    "\n",
    "classifier2 = LogisticRegression()\n",
    "classifier2.fit(x_train, y_train)\n",
    "ac2.append(classifier2.score(x_test, y_test))\n",
    "\n",
    "\n",
    "print(ac1)\n",
    "print(ac2)\n"
   ]
  },
  {
   "cell_type": "code",
   "execution_count": 86,
   "metadata": {},
   "outputs": [
    {
     "data": {
      "image/png": "[encoded data removed]",
      "text/plain": [
       "<Figure size 640x480 with 1 Axes>"
      ]
     },
     "metadata": {},
     "output_type": "display_data"
    }
   ],
   "source": [
    "import matplotlib.pyplot as plt\n",
    "  \n",
    "# x-coordinates of left sides of bars \n",
    "left = [1, 2, 3]\n",
    "  \n",
    "# heights of bars\n",
    "height = []\n",
    "height.append(ac2[0])\n",
    "height.append(ac2[1])\n",
    "height.append(ac3[0])\n",
    "  \n",
    "# labels for bars\n",
    "tick_label = ['old', 'new', 'random']\n",
    "  \n",
    "# plotting a bar chart\n",
    "plt.bar(left, height, tick_label = tick_label,\n",
    "        width = 0.8, color = ['green'])\n",
    "  \n",
    "# naming the x-axis\n",
    "plt.xlabel('x - axis')\n",
    "# naming the y-axis\n",
    "plt.ylabel('y - axis')\n",
    "# plot title\n",
    "plt.title('My bar chart!')\n",
    "  \n",
    "# function to show the plot\n",
    "plt.show()"
   ]
  },
  {
   "cell_type": "code",
   "execution_count": 83,
   "metadata": {},
   "outputs": [
    {
     "data": {
      "image/png": "[encoded data removed]",
      "text/plain": [
       "<Figure size 640x480 with 1 Axes>"
      ]
     },
     "metadata": {},
     "output_type": "display_data"
    }
   ],
   "source": [
    "import matplotlib.pyplot as plt\n",
    "\n",
    "# x axis values\n",
    "x = range(20)\n",
    "# corresponding y axis values\n",
    "y = ac1\n",
    "\n",
    "# plotting the points\n",
    "plt.plot(x, y, color='green', linestyle='dashed', linewidth = 3,\n",
    "\t\tmarker='o', markerfacecolor='blue', markersize=12)\n",
    "\n",
    "# setting x and y axis range\n",
    "plt.ylim(0,1)\n",
    "plt.xlim(1,20)\n",
    "\n",
    "# naming the x axis\n",
    "plt.xlabel('x - axis')\n",
    "# naming the y axis\n",
    "plt.ylabel('y - axis')\n",
    "\n",
    "# giving a title to my graph\n",
    "plt.title('Some cool customizations!')\n",
    "\n",
    "# function to show the plot\n",
    "plt.show()\n"
   ]
  },
  {
   "cell_type": "code",
   "execution_count": 78,
   "metadata": {},
   "outputs": [
    {
     "name": "stdout",
     "output_type": "stream",
     "text": [
      "[0.6666666666666666, 0.75, 0.9166666666666666, 0.9444444444444444, 0.9722222222222222, 0.9722222222222222, 0.9722222222222222, 0.9722222222222222, 0.9444444444444444, 0.9722222222222222, 0.6944444444444444, 0.6944444444444444, 0.8888888888888888, 0.75, 0.9166666666666666, 0.9444444444444444, 0.9444444444444444, 0.9444444444444444, 0.9722222222222222, 0.9444444444444444]\n"
     ]
    },
    {
     "data": {
      "image/png": "[encoded data removed]",
      "text/plain": [
       "<Figure size 640x480 with 1 Axes>"
      ]
     },
     "metadata": {},
     "output_type": "display_data"
    },
    {
     "data": {
      "image/png": "[encoded data removed]",
      "text/plain": [
       "<Figure size 640x480 with 1 Axes>"
      ]
     },
     "metadata": {},
     "output_type": "display_data"
    }
   ],
   "source": [
    "import matplotlib.pyplot as plt\n",
    "\n",
    "# x axis values\n",
    "x = range(9)\n",
    "# corresponding y axis values\n",
    "print(ac1)\n",
    "y = ac1[0:9]\n",
    "y2 = ac1[10:-1]\n",
    "\n",
    "# plotting the points\n",
    "plt.plot(x, y, color='green', linestyle='dashed', linewidth = 3,\n",
    "\t\tmarker='o', markerfacecolor='blue', markersize=12)\n",
    "\n",
    "# setting x and y axis range\n",
    "plt.ylim(0,1)\n",
    "plt.xlim(0,20)\n",
    "\n",
    "# naming the x axis\n",
    "plt.xlabel('x - axis')\n",
    "# naming the y axis\n",
    "plt.ylabel('y - axis')\n",
    "\n",
    "# giving a title to my graph\n",
    "plt.title('Some cool customizations!')\n",
    "\n",
    "# function to show the plot\n",
    "plt.show()\n",
    "\n",
    "plt.plot(x, y2, color='green', linestyle='dashed', linewidth = 3,\n",
    "\t\tmarker='o', markerfacecolor='blue', markersize=12)\n",
    "plt.show()\n"
   ]
  }
 ],
 "metadata": {
  "kernelspec": {
   "display_name": "venv",
   "language": "python",
   "name": "venv"
  },
  "language_info": {
   "codemirror_mode": {
    "name": "ipython",
    "version": 3
   },
   "file_extension": ".py",
   "mimetype": "text/x-python",
   "name": "python",
   "nbconvert_exporter": "python",
   "pygments_lexer": "ipython3",
   "version": "3.8.0"
  },
  "orig_nbformat": 4,
  "vscode": {
   "interpreter": {
    "hash": "df0893f56f349688326838aaeea0de204df53a132722cbd565e54b24a8fec5f6"
   }
  }
 },
 "nbformat": 4,
 "nbformat_minor": 2
}
