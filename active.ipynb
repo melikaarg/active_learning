{
 "cells": [
  {
   "cell_type": "code",
   "execution_count": null,
   "metadata": {},
   "outputs": [],
   "source": []
  },
  {
   "cell_type": "code",
   "execution_count": 3,
   "metadata": {},
   "outputs": [],
   "source": [
    "def query(self, n):\n",
    "        unlabeled_idxs, unlabeled_data = self.dataset.get_unlabeled_data()\n",
    "        probs = self.predict_prob(unlabeled_data)\n",
    "        probs_sorted, idxs = probs.sort(descending=True)\n",
    "        uncertainties = probs_sorted[:, 0] - probs_sorted[:,1]\n",
    "        return unlabeled_idxs[uncertainties.sort()[1][:n]]"
   ]
  },
  {
   "cell_type": "code",
   "execution_count": 5,
   "metadata": {},
   "outputs": [
    {
     "name": "stdout",
     "output_type": "stream",
     "text": [
      "150\n"
     ]
    }
   ],
   "source": [
    "import pandas as pd\n",
    "import numpy as np\n",
    "from sklearn.model_selection import train_test_split\n",
    "iris=pd.read_csv(\"iris.csv\")\n",
    "train, test = train_test_split(iris, test_size = 0.8)\n",
    "train_X = train[['sepal.length', 'sepal.width', 'petal.length',\n",
    "                 'petal.width']]\n",
    "train_y = train.variety\n",
    "\n",
    "test_X = test[['sepal.length', 'sepal.width', 'petal.length',\n",
    "                 'petal.width']]\n",
    "test_y = test.variety\n",
    "n_pool = len(train_X)\n",
    "num = 10\n",
    "labeled_idxs = np.zeros(n_pool, dtype=bool)\n",
    "tmp_idxs = np.arange(n_pool)\n",
    "np.random.shuffle(tmp_idxs)\n",
    "labeled_idxs[tmp_idxs[:num]] = True\n",
    "print(len(iris))\n"
   ]
  },
  {
   "cell_type": "code",
   "execution_count": 4,
   "metadata": {},
   "outputs": [],
   "source": [
    "from sklearn.linear_model import LogisticRegression\n",
    "from sklearn import metrics\n",
    "def train(train_X, train_y):\n",
    "    model = LogisticRegression()\n",
    "    model.fit(train_X, train_y)\n",
    "    prediction = model.predict(test_X)\n",
    "    print('Accuracy:',metrics.accuracy_score(prediction,test_y))"
   ]
  },
  {
   "cell_type": "code",
   "execution_count": null,
   "metadata": {},
   "outputs": [],
   "source": [
    "dataset = get_dataset(args.dataset_name)                   # load dataset\n",
    "net = get_net(args.dataset_name, device)                   # load network\n",
    "strategy = get_strategy(args.strategy_name)(dataset, net)  # load strategy"
   ]
  },
  {
   "cell_type": "code",
   "execution_count": null,
   "metadata": {},
   "outputs": [],
   "source": [
    "print(\"Round 0\")\n",
    "train()\n",
    "preds = strategy.predict(dataset.get_test_data())\n",
    "print(f\"Round 0 testing accuracy: {dataset.cal_test_acc(preds)}\")\n",
    "\n",
    "for rd in range(1, args.n_round+1):\n",
    "    print(f\"Round {rd}\")\n",
    "\n",
    "    # query\n",
    "    query_idxs = query(args.n_query)\n",
    "\n",
    "    # update labels\n",
    "    update(query_idxs)\n",
    "    train()\n",
    "\n",
    "    # calculate accuracy\n",
    "    preds = predict(dataset.get_test_data())\n",
    "    print(f\"Round {rd} testing accuracy: {dataset.cal_test_acc(preds)}\")\n"
   ]
  }
 ],
 "metadata": {
  "kernelspec": {
   "display_name": "venv",
   "language": "python",
   "name": "venv"
  },
  "language_info": {
   "codemirror_mode": {
    "name": "ipython",
    "version": 3
   },
   "file_extension": ".py",
   "mimetype": "text/x-python",
   "name": "python",
   "nbconvert_exporter": "python",
   "pygments_lexer": "ipython3",
   "version": "3.8.0"
  },
  "orig_nbformat": 4
 },
 "nbformat": 4,
 "nbformat_minor": 2
}
